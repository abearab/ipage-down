{
 "cells": [
  {
   "cell_type": "code",
   "execution_count": 1,
   "id": "72215e50",
   "metadata": {},
   "outputs": [],
   "source": [
    "import glob\n",
    "import pandas as pd "
   ]
  },
  {
   "cell_type": "markdown",
   "id": "ab31bca4",
   "metadata": {},
   "source": [
    "## 1) Download GAF files\n",
    "http://current.geneontology.org/products/pages/downloads.html"
   ]
  },
  {
   "cell_type": "raw",
   "id": "c6bd4b46",
   "metadata": {},
   "source": [
    "!mkdir -pv goann/\n",
    "!wget -O goann/goa_human.gaf.gz goann http://geneontology.org/gene-associations/goa_human.gaf.gz\n",
    "!wget -O goann/goa_human_complex.gaf.gz goann http://geneontology.org/gene-associations/goa_human_complex.gaf.gz    \n",
    "!wget -O goann/goa_human_isoform.gaf.gz goann http://geneontology.org/gene-associations/goa_human_isoform.gaf.gz\n",
    "!wget -O goann/goa_human_rna.gaf.gz http://geneontology.org/gene-associations/goa_human_rna.gaf.gz"
   ]
  },
  {
   "cell_type": "raw",
   "id": "08b114ff",
   "metadata": {},
   "source": [
    "!gunzip goann/*"
   ]
  },
  {
   "cell_type": "markdown",
   "id": "ad524a01",
   "metadata": {},
   "source": [
    "## 2) Download associations\n",
    "NCBI's gene2go file contains annotations of GO terms to Entrez GeneIDs for over 35 different species. We are interested in human which have the taxid 9606."
   ]
  },
  {
   "cell_type": "raw",
   "id": "cd25a880",
   "metadata": {},
   "source": [
    "# Get ftp://ftp.ncbi.nlm.nih.gov/gene/DATA/gene2go.gz\n",
    "from goatools.base import download_ncbi_associations\n",
    "gene2go = download_ncbi_associations()\n",
    "!mv -v gene2go goann/gene2go"
   ]
  },
  {
   "cell_type": "markdown",
   "id": "3bbb550e",
   "metadata": {},
   "source": [
    "Follow the instructions in the [**background_genes_ncbi notebook**](https://github.com/tanghaibao/goatools/blob/main/notebooks/backround_genes_ncbi.ipynb) to download a set of background population genes from NCBI.\n",
    "\n",
    "\n",
    "\n",
    "> 1. Query [NCBI Gene](https://www.ncbi.nlm.nih.gov/gene)\n",
    "        \"9606\"[Taxonomy ID] AND alive[property]\n",
    "> 2. Click \"Send to:\"\n",
    "> 3. Select \"File\"\n",
    "> 4. Select \"Create File\" button The default name of the tsv file is gene_result.txt\n",
    "> 5. Convert NCBI Gene tsv file to a Python module    \n",
    "    A goatools Python script will convert a NCBI Gene tsv file to a Python module:\n",
    ">        `scripts/ncbi_gene_results_to_python.py gene_result.txt -o genes_ncbi_human.py`\n",
    "> 6. Import NCBI data from Python module"
   ]
  },
  {
   "cell_type": "raw",
   "id": "9ace5493",
   "metadata": {},
   "source": [
    "!python scripts/ncbi_gene_results_to_python.py goann/gene_result.txt -o scripts/genes_ncbi_human.py"
   ]
  },
  {
   "cell_type": "markdown",
   "id": "09db7993",
   "metadata": {},
   "source": [
    "___\n"
   ]
  },
  {
   "cell_type": "markdown",
   "id": "10169505",
   "metadata": {},
   "source": [
    "## Load GAF files into the GafReader"
   ]
  },
  {
   "cell_type": "code",
   "execution_count": 4,
   "id": "49cc1bf7",
   "metadata": {},
   "outputs": [
    {
     "name": "stdout",
     "output_type": "stream",
     "text": [
      "HMS:0:00:04.647915 146,309 annotations READ: goann/goa_human_isoform.gaf \n",
      "HMS:0:00:00.084926   2,136 annotations READ: goann/goa_human_complex.gaf \n",
      "HMS:0:00:01.572899  55,246 annotations READ: goann/goa_human_rna.gaf \n",
      "HMS:0:00:21.411174 609,183 annotations READ: goann/goa_human.gaf \n",
      "CPU times: user 23.1 s, sys: 2.81 s, total: 25.9 s\n",
      "Wall time: 27.7 s\n"
     ]
    }
   ],
   "source": [
    "%%time \n",
    "from goatools.anno.gaf_reader import GafReader\n",
    "\n",
    "godata = {}\n",
    "for gaf in glob.glob('goann/*.gaf'):\n",
    "    name = gaf.split('/')[1].replace('.gaf','')\n",
    "    godata[name] = {}\n",
    "    godata[name]['Gaf'] = GafReader(gaf)"
   ]
  },
  {
   "cell_type": "code",
   "execution_count": 6,
   "id": "1b22e2ea",
   "metadata": {},
   "outputs": [
    {
     "name": "stdout",
     "output_type": "stream",
     "text": [
      "goa_human_isoform 146309\n",
      "goa_human_complex 2136\n",
      "goa_human_rna 55246\n",
      "goa_human 609183\n",
      "CPU times: user 1.72 s, sys: 148 ms, total: 1.87 s\n",
      "Wall time: 1.86 s\n"
     ]
    },
    {
     "data": {
      "text/plain": [
       "18854"
      ]
     },
     "execution_count": 6,
     "metadata": {},
     "output_type": "execute_result"
    }
   ],
   "source": [
    "%%time \n",
    "for name in godata:\n",
    "    godata[name]['GO Terms'] = [(x.GO_ID,x.DB_Name,x.NS) for x in godata[name]['Gaf'].get_associations()]\n",
    "    print(name, len(godata[name]['GO Terms']))\n",
    "\n",
    "GO_Terms_df = pd.DataFrame([(x,''.join(y),z) for name in godata for x,y,z in godata[name]['GO Terms']],columns=['GO_ID','DB_Name','Name_Space']).drop_duplicates('GO_ID').set_index('GO_ID')\n",
    "len(GO_Terms_df)"
   ]
  },
  {
   "cell_type": "markdown",
   "id": "f316b4fd",
   "metadata": {},
   "source": [
    "## Read associations and map GO ids to gene names\n"
   ]
  },
  {
   "cell_type": "code",
   "execution_count": 7,
   "id": "5fcf8f84",
   "metadata": {},
   "outputs": [],
   "source": [
    "# Read NCBI gene annotations \n",
    "from scripts.genes_ncbi_human import GENEID2NT # Already downloaded and converted to a python module ...\n",
    "\n",
    "gnid2name = [(x.GeneID, x.Symbol) for x in GENEID2NT.values()]\n",
    "\n",
    "gnid2name_df = pd.DataFrame(gnid2name,columns=['GeneID','Symbol']).set_index('GeneID')"
   ]
  },
  {
   "cell_type": "code",
   "execution_count": 8,
   "id": "76cc721b",
   "metadata": {},
   "outputs": [
    {
     "data": {
      "text/plain": [
       "64013"
      ]
     },
     "execution_count": 8,
     "metadata": {},
     "output_type": "execute_result"
    }
   ],
   "source": [
    "len(gnid2name_df)"
   ]
  },
  {
   "cell_type": "code",
   "execution_count": 9,
   "id": "cbd13a48",
   "metadata": {
    "scrolled": true
   },
   "outputs": [
    {
     "name": "stdout",
     "output_type": "stream",
     "text": [
      "HMS:0:00:10.343592 330,404 annotations, 20,688 genes, 18,642 GOs, 1 taxids READ: goann/gene2go \n"
     ]
    }
   ],
   "source": [
    "from goatools.anno.genetogo_reader import Gene2GoReader\n",
    "\n",
    "gene2go = Gene2GoReader('goann/gene2go', taxids=[9606]) # Already downloaded ..."
   ]
  },
  {
   "cell_type": "code",
   "execution_count": 10,
   "id": "6bc33c64",
   "metadata": {},
   "outputs": [],
   "source": [
    "# go2gnids = gene2go.get_id2gos(namespace='BP',go2geneids=True)\n",
    "# go2gnids.update(gene2go.get_id2gos(namespace='CC',go2geneids=True))\n",
    "# go2gnids.update(gene2go.get_id2gos(namespace='MF',go2geneids=True))\n",
    "\n",
    "# go2gnnames = {}\n",
    "\n",
    "# for key, value in go2gnids.items():\n",
    "#     go2gnnames[key] = gnid2name_df.Symbol[value].to_list()\n",
    "\n",
    "# len(go2gnnames)"
   ]
  },
  {
   "cell_type": "code",
   "execution_count": 11,
   "id": "e48ba9bd",
   "metadata": {},
   "outputs": [
    {
     "name": "stdout",
     "output_type": "stream",
     "text": [
      "18501 IDs in loaded association branch, BP\n",
      "19433 IDs in loaded association branch, CC\n",
      "18194 IDs in loaded association branch, MF\n"
     ]
    },
    {
     "data": {
      "text/plain": [
       "20651"
      ]
     },
     "execution_count": 11,
     "metadata": {},
     "output_type": "execute_result"
    }
   ],
   "source": [
    "gnid2gos = gene2go.get_id2gos(namespace='BP')\n",
    "gnid2gos.update(gene2go.get_id2gos(namespace='CC'))\n",
    "gnid2gos.update(gene2go.get_id2gos(namespace='MF'))\n",
    "\n",
    "gnname2gos = {}\n",
    "\n",
    "for key, value in gnid2gos.items():\n",
    "    gnname2gos[gnid2name_df.Symbol[key]] = value\n",
    "    \n",
    "len(gnname2gos)"
   ]
  },
  {
   "cell_type": "markdown",
   "id": "e7125338",
   "metadata": {},
   "source": [
    "Subset to uniq GO ids"
   ]
  },
  {
   "cell_type": "code",
   "execution_count": 12,
   "id": "0cce4d0c",
   "metadata": {},
   "outputs": [
    {
     "data": {
      "text/plain": [
       "4886"
      ]
     },
     "execution_count": 12,
     "metadata": {},
     "output_type": "execute_result"
    }
   ],
   "source": [
    "GOs = {go for val in gnname2gos.values() for go in val}\n",
    "goann = GO_Terms_df.loc[GOs,:]\n",
    "\n",
    "len(goann)"
   ]
  },
  {
   "cell_type": "markdown",
   "id": "0fc322cc",
   "metadata": {},
   "source": [
    "## Write iPAGE annotations "
   ]
  },
  {
   "cell_type": "code",
   "execution_count": 13,
   "id": "e547ff30",
   "metadata": {},
   "outputs": [],
   "source": [
    "from ipage_down import *"
   ]
  },
  {
   "cell_type": "code",
   "execution_count": 14,
   "id": "8b84bc1a",
   "metadata": {},
   "outputs": [],
   "source": [
    "mkdir -pv annotations/human_go_gs"
   ]
  },
  {
   "cell_type": "code",
   "execution_count": 15,
   "id": "2033c862",
   "metadata": {},
   "outputs": [],
   "source": [
    "write_page_index(gnname2gos,'annotations/human_go_gs/human_go_gs_index.txt.gz')"
   ]
  },
  {
   "cell_type": "code",
   "execution_count": 16,
   "id": "c880cb2e",
   "metadata": {},
   "outputs": [
    {
     "name": "stdout",
     "output_type": "stream",
     "text": [
      "A2M\tGO:0019966\tGO:0048306\tGO:0002020\tGO:0019959\tGO:0005515\tGO:0005102\tGO:0019838\tGO:0043120\tGO:0004866\tGO:0019899\tGO:0004867\r\n",
      "NAT1\tGO:0004060\r\n",
      "\r\n",
      "gzip: stdout: Broken pipe\r\n"
     ]
    }
   ],
   "source": [
    "!zcat annotations/human_go_gs/human_go_gs_index.txt.gz | head -n 2"
   ]
  },
  {
   "cell_type": "code",
   "execution_count": 17,
   "id": "cebdda8d",
   "metadata": {},
   "outputs": [],
   "source": [
    "write_page_names(goann,'annotations/human_go_gs/human_go_gs_names.txt.gz')"
   ]
  },
  {
   "cell_type": "code",
   "execution_count": 18,
   "id": "cb8a8ff5",
   "metadata": {},
   "outputs": [
    {
     "name": "stdout",
     "output_type": "stream",
     "text": [
      "GO:0032051\tClathrin heavy chain\tMF\r\n",
      "GO:0046715\tSodium bicarbonate transporter-like protein 11\tMF\r\n",
      "GO:0071614\tCytochrome P450 2J2\tMF\r\n",
      "GO:0046965\tTransforming acidic coiled-coil-containing protein 1\tMF\r\n",
      "GO:0003874\t6-pyruvoyltetrahydropterin synthase\tMF\r\n",
      "GO:0004445\tInositol-polyphosphate 5-phosphatase\tMF\r\n",
      "GO:0050355\tmRNA-capping enzyme\tMF\r\n",
      "GO:0033218\t3-oxo-5-alpha-steroid 4-dehydrogenase 1\tMF\r\n",
      "GO:0004333\tFumarate hydratase, mitochondrial\tMF\r\n",
      "GO:0015420\tLysosomal cobalamin transporter ABCD4\tMF\r\n",
      "\r\n",
      "gzip: stdout: Broken pipe\r\n"
     ]
    }
   ],
   "source": [
    "!zcat annotations/human_go_gs/human_go_gs_names.txt.gz | head "
   ]
  },
  {
   "cell_type": "markdown",
   "id": "d981dccf",
   "metadata": {},
   "source": [
    "## Methylation related pathways"
   ]
  },
  {
   "cell_type": "code",
   "execution_count": 19,
   "id": "f4d1242a",
   "metadata": {
    "scrolled": false
   },
   "outputs": [
    {
     "data": {
      "text/plain": [
       "{'(S)-3-amino-2-methylpropionate transaminase',\n",
       " '1,2-dihydroxy-3-keto-5-methylthiopentene dioxygenase',\n",
       " '2-C-methyl-D-erythritol 4-phosphate cytidylyltransferase-like protein',\n",
       " '2-methoxy-6-polyprenyl-1,4-benzoquinol methylase, mitochondrial',\n",
       " '3-hydroxy-3-methylglutaryl-coenzyme A reductase',\n",
       " '3-methyladenine DNA glycosidase',\n",
       " '4-trimethylaminobutyraldehyde dehydrogenase',\n",
       " '5-methylcytosine rRNA methyltransferase NSUN4',\n",
       " '6-O-methylguanine-DNA methyltransferase',\n",
       " \"7-methylguanosine phosphate-specific 5'-nucleotidase\",\n",
       " '7SK snRNA methylphosphate capping enzyme',\n",
       " 'ATP synthase subunit C lysine N-methyltransferase',\n",
       " 'Acetylserotonin O-methyltransferase',\n",
       " 'Alpha N-terminal protein methyltransferase 1B',\n",
       " 'Alpha-methylacyl-CoA racemase',\n",
       " 'Aminomethyltransferase',\n",
       " 'Arsenite methyltransferase',\n",
       " 'Betaine--homocysteine S-methyltransferase 1',\n",
       " 'Bifunctional arginine demethylase and lysyl-hydroxylase JMJD6',\n",
       " 'Calmodulin-lysine N-methyltransferase',\n",
       " \"Cap-specific mRNA (nucleoside-2'-O-)-methyltransferase 1\",\n",
       " \"Cap-specific mRNA (nucleoside-2'-O-)-methyltransferase 2\",\n",
       " 'Carnosine N-methyltransferase',\n",
       " 'Catechol O-methyltransferase',\n",
       " 'Citrate synthase-lysine N-methyltransferase CSKMT, mitochondrial',\n",
       " 'Coactivator-associated arginine methyltransferase 1',\n",
       " 'DNA (cytosine-5)-methyltransferase 1',\n",
       " 'DNA (cytosine-5)-methyltransferase 3-like',\n",
       " 'DNA (cytosine-5-)-methyltransferase',\n",
       " 'DNA oxidative demethylase ALKBH2',\n",
       " 'DNA-3-methyladenine glycosylase',\n",
       " 'Dimethylaniline monooxygenase [N-oxide-forming] 2',\n",
       " 'Dimethylaniline monooxygenase [N-oxide-forming] 3',\n",
       " 'Dimethylargininase',\n",
       " 'Dimethylglycine dehydrogenase, mitochondrial',\n",
       " 'Diphthine methyl ester synthase',\n",
       " 'Diphthine methyltransferase',\n",
       " 'EEF1A lysine methyltransferase 2',\n",
       " 'Electron transfer flavoprotein beta subunit lysine methyltransferase',\n",
       " 'Glycine N-methyltransferase',\n",
       " 'Glycine dehydrogenase (aminomethyl-transferring)',\n",
       " 'Glycine hydroxymethyltransferase',\n",
       " 'Guanidinoacetate N-methyltransferase',\n",
       " 'HEN1 methyltransferase homolog 1',\n",
       " 'Histamine N-methyltransferase',\n",
       " 'Histidine protein methyltransferase 1 homolog',\n",
       " 'Histone demethylase UTY',\n",
       " 'Histone-arginine methyltransferase CARM1',\n",
       " 'Histone-lysine N-methyltransferase 2A',\n",
       " 'Histone-lysine N-methyltransferase 2D',\n",
       " 'Histone-lysine N-methyltransferase ASH1L',\n",
       " 'Histone-lysine N-methyltransferase EHMT2',\n",
       " 'Histone-lysine N-methyltransferase EZH2',\n",
       " 'Histone-lysine N-methyltransferase NSD2',\n",
       " 'Histone-lysine N-methyltransferase PRDM16',\n",
       " 'Histone-lysine N-methyltransferase PRDM9',\n",
       " 'Histone-lysine N-methyltransferase SETD1A',\n",
       " 'Histone-lysine N-methyltransferase SETD1B',\n",
       " 'Histone-lysine N-methyltransferase SETD2',\n",
       " 'Histone-lysine N-methyltransferase SETD7',\n",
       " 'Histone-lysine N-methyltransferase SETDB2',\n",
       " 'Histone-lysine N-methyltransferase SETMAR',\n",
       " 'Histone-lysine N-methyltransferase SUV39H1',\n",
       " 'Histone-lysine N-methyltransferase, H3 lysine-36 specific',\n",
       " 'Histone-lysine N-methyltransferase, H3 lysine-79 specific',\n",
       " 'Hydroxymethylbilane hydrolyase [cyclizing]',\n",
       " 'Hydroxymethylbilane synthase',\n",
       " 'Hydroxymethylglutaryl-CoA lyase',\n",
       " 'Hydroxymethylglutaryl-CoA synthase, cytoplasmic',\n",
       " 'Hydroxymethylglutaryl-CoA synthase, mitochondrial',\n",
       " 'Inactive histone-lysine N-methyltransferase 2E',\n",
       " 'Indolethylamine N-methyltransferase',\n",
       " 'Lanosterol 14-alpha demethylase',\n",
       " 'Leucine carboxyl methyltransferase 1',\n",
       " 'Lysine-specific demethylase 2B',\n",
       " 'Lysine-specific demethylase 3A',\n",
       " 'Lysine-specific demethylase 4A',\n",
       " 'Lysine-specific demethylase 5B',\n",
       " 'Lysine-specific demethylase 6A',\n",
       " 'Lysine-specific demethylase 6B',\n",
       " 'Lysine-specific demethylase PHF2',\n",
       " 'Lysine-specific histone demethylase',\n",
       " 'Lysine-specific histone demethylase 1A',\n",
       " 'MTRF1L release factor glutamine methyltransferase',\n",
       " 'Methylated-DNA--protein-cysteine methyltransferase',\n",
       " 'Mitochondrial methylcrotonyl-CoA carboxylase complex',\n",
       " 'Mitochondrial tRNA methylthiotransferase CDK5RAP1',\n",
       " 'Mitochondrial tRNA:m(1)R9 methyltransferase complex',\n",
       " 'Multifunctional methyltransferase subunit TRM112-like protein',\n",
       " 'N(6)-adenine-specific methyltransferase METTL4',\n",
       " 'N(G),N(G)-dimethylarginine dimethylaminohydrolase 1',\n",
       " 'N-lysine methyltransferase SETD6',\n",
       " 'N-terminal Xaa-Pro-Lys N-methyltransferase 1',\n",
       " 'N6-adenosine-methyltransferase catalytic subunit',\n",
       " 'Nicotinamide N-methyltransferase',\n",
       " 'Phenylethanolamine N-methyltransferase',\n",
       " 'Phosphatidylethanolamine N-methyltransferase',\n",
       " 'Probable 18S rRNA (guanine-N(7))-methyltransferase',\n",
       " 'Probable bifunctional dTTP/UTP pyrophosphatase/methyltransferase protein',\n",
       " 'Probable bifunctional methylenetetrahydrofolate dehydrogenase/cyclohydrolase 2',\n",
       " 'Probable dimethyladenosine transferase',\n",
       " 'Probable tRNA methyltransferase 9B',\n",
       " 'Protein arginine N-methyltransferase',\n",
       " 'Protein arginine N-methyltransferase 1',\n",
       " 'Protein arginine N-methyltransferase 2',\n",
       " 'Protein arginine N-methyltransferase 3',\n",
       " 'Protein arginine N-methyltransferase 5',\n",
       " 'Protein arginine N-methyltransferase 6',\n",
       " 'Protein arginine N-methyltransferase 7',\n",
       " 'Protein arginine N-methyltransferase 8',\n",
       " 'Protein arginine methyltransferase NDUFAF7',\n",
       " 'Protein phosphatase methylesterase 1',\n",
       " 'Protein-L-isoaspartate O-methyltransferase',\n",
       " 'Protein-S-isoprenylcysteine O-methyltransferase',\n",
       " 'Protein-histidine N-methyltransferase',\n",
       " 'Putative methyltransferase-like protein 15P1',\n",
       " \"Putative tRNA (cytidine(32)/guanosine(34)-2'-O)-methyltransferase\",\n",
       " \"RNA 5'-monophosphate methyltransferase\",\n",
       " 'RNA N6-adenosine-methyltransferase METTL16',\n",
       " 'RNA cytosine C(5)-methyltransferase NSUN2',\n",
       " 'RNA demethylase ALKBH5',\n",
       " 'RNA guanine-N7 methyltransferase activating subunit',\n",
       " 'Ribosomal RNA small subunit methyltransferase NEP1',\n",
       " 'S-methylmethionine--homocysteine S-methyltransferase BHMT2',\n",
       " 'Serine hydroxymethyltransferase, cytosolic',\n",
       " 'Serine hydroxymethyltransferase, mitochondrial',\n",
       " \"Small RNA 2'-O-methyltransferase\",\n",
       " 'SpoU_methylase domain-containing protein',\n",
       " 'Succinate--hydroxymethylglutarate CoA-transferase',\n",
       " 'Thiopurine S-methyltransferase',\n",
       " 'Threonylcarbamoyladenosine tRNA methylthiotransferase',\n",
       " 'Trimethylguanosine synthase',\n",
       " 'Trimethyllysine dioxygenase, mitochondrial',\n",
       " 'Ubiquinone biosynthesis O-methyltransferase, mitochondrial',\n",
       " '[3-methyl-2-oxobutanoate dehydrogenase [lipoamide]] kinase, mitochondrial',\n",
       " '[Histone H3]-dimethyl-L-lysine(36) demethylase',\n",
       " '[Histone H3]-lysine(27) N-trimethyltransferase',\n",
       " '[Histone H3]-trimethyl-L-lysine(4) demethylase',\n",
       " '[Histone H3]-trimethyl-L-lysine(9) demethylase',\n",
       " '[histone H4]-N-methyl-L-lysine20 N-methyltransferase KMT5B',\n",
       " 'mRNA cap guanine-N7 methyltransferase',\n",
       " \"pre-rRNA 2'-O-ribose RNA methyltransferase FTSJ3\",\n",
       " \"rRNA 2'-O-methyltransferase fibrillarin\",\n",
       " 'rRNA adenine N(6)-methyltransferase',\n",
       " 'rRNA methyltransferase 1, mitochondrial',\n",
       " 'rRNA methyltransferase 2, mitochondrial',\n",
       " \"rRNA/tRNA 2'-O-methyltransferase fibrillarin-like protein 1\",\n",
       " 'tRNA (adenine(37)-N6)-methyltransferase',\n",
       " 'tRNA (adenine(58)-N(1))-methyltransferase',\n",
       " 'tRNA (adenine(58)-N(1))-methyltransferase, mitochondrial',\n",
       " 'tRNA (cytosine(34)-C(5))-methyltransferase, mitochondrial',\n",
       " 'tRNA (cytosine(38)-C(5))-methyltransferase',\n",
       " 'tRNA (cytosine(72)-C(5))-methyltransferase NSUN6',\n",
       " 'tRNA (guanine(26)-N(2))-dimethyltransferase',\n",
       " 'tRNA (guanine(37)-N1)-methyltransferase',\n",
       " 'tRNA (guanine-N(7)-)-methyltransferase',\n",
       " 'tRNA (guanine-N(7)-)-methyltransferase non-catalytic subunit WDR4',\n",
       " 'tRNA (uracil(54)-C(5))-methyltransferase homolog',\n",
       " 'tRNA (uracil-O(2)-)-methyltransferase',\n",
       " 'tRNA 4-demethylwyosine synthase (AdoMet-dependent)',\n",
       " 'tRNA N(3)-methylcytidine methyltransferase METTL2B',\n",
       " 'tRNA dimethylallyltransferase',\n",
       " 'tRNA methyltransferase 10 homolog A',\n",
       " 'tRNA methyltransferase 10 homolog C'}"
      ]
     },
     "execution_count": 19,
     "metadata": {},
     "output_type": "execute_result"
    }
   ],
   "source": [
    "set(GO_Terms_df.DB_Name[['methyl' in x for x in GO_Terms_df.DB_Name]].to_list())"
   ]
  },
  {
   "cell_type": "code",
   "execution_count": 20,
   "id": "e3507c26",
   "metadata": {},
   "outputs": [],
   "source": [
    "from iPAGE2 import ipage2"
   ]
  },
  {
   "cell_type": "markdown",
   "id": "4e6c2779",
   "metadata": {},
   "source": [
    "https://github.com/artemy-bakulin/iPAGE-2"
   ]
  },
  {
   "cell_type": "code",
   "execution_count": 21,
   "id": "2ae93cea",
   "metadata": {
    "scrolled": false
   },
   "outputs": [
    {
     "name": "stdout",
     "output_type": "stream",
     "text": [
      "name: down-go\r\n",
      "channels:\r\n",
      "  - defaults\r\n",
      "  - anaconda\r\n",
      "  - r\r\n",
      "  - bioconda\r\n",
      "  - conda-forge\r\n",
      "dependencies:\r\n",
      "  - _libgcc_mutex=0.1=main\r\n",
      "  - _openmp_mutex=4.5=1_gnu\r\n",
      "  - alabaster=0.7.12=py37_0\r\n",
      "  - appdirs=1.4.4=py_0\r\n",
      "  - atk-1.0=2.36.0=h28cd5cc_0\r\n",
      "  - babel=2.9.1=pyhd3eb1b0_0\r\n",
      "  - backcall=0.2.0=py_0\r\n",
      "  - beautifulsoup4=4.9.3=pyha847dfd_0\r\n",
      "  - bioservices=1.7.11=pyh3252c3a_0\r\n",
      "  - blas=1.0=mkl\r\n",
      "  - brotlipy=0.7.0=py37h27cfd23_1003\r\n",
      "  - c-ares=1.17.1=h27cfd23_0\r\n",
      "  - ca-certificates=2020.10.14=0\r\n",
      "  - cairo=1.16.0=hf32fb01_1\r\n",
      "  - certifi=2020.6.20=py37_0\r\n",
      "  - cffi=1.14.5=py37h261ae71_0\r\n",
      "  - chardet=4.0.0=py37h06a4308_1003\r\n",
      "  - colorama=0.4.4=pyhd3eb1b0_0\r\n",
      "  - colorlog=5.0.1=py37h06a4308_1\r\n",
      "  - cryptography=3.4.7=py37hd23ed53_0\r\n",
      "  - cycler=0.10.0=py37_0\r\n",
      "  - decorator=4.4.2=py_0\r\n",
      "  - docutils=0.17.1=py37h06a4308_1\r\n",
      "  - easydev=0.10.1=pyh9f0ad1d_0\r\n",
      "  - expat=2.4.1=h2531618_2\r\n",
      "  - font-ttf-dejavu-sans-mono=2.37=h6964260_0\r\n",
      "  - font-ttf-inconsolata=2.001=hcb22688_0\r\n",
      "  - font-ttf-source-code-pro=2.030=h7457263_0\r\n",
      "  - font-ttf-ubuntu=0.83=h8b1ccd4_0\r\n",
      "  - fontconfig=2.13.1=h6c09931_0\r\n",
      "  - fonts-conda-ecosystem=1=0\r\n",
      "  - fonts-conda-forge=1=0\r\n",
      "  - freetype=2.10.4=h5ab3b9f_0\r\n",
      "  - fribidi=1.0.10=h7b6447c_0\r\n",
      "  - gdk-pixbuf=2.42.6=h04a7f16_0\r\n",
      "  - gettext=0.21.0=hf68c758_0\r\n",
      "  - gevent=21.1.2=py37h27cfd23_1\r\n",
      "  - giflib=5.2.1=h7b6447c_0\r\n",
      "  - glib=2.68.3=h9c3ff4c_0\r\n",
      "  - glib-tools=2.68.3=h9c3ff4c_0\r\n",
      "  - goatools=1.1.6=pyh5e36f6f_0\r\n",
      "  - gobject-introspection=1.68.0=py37h2109141_1\r\n",
      "  - graphite2=1.3.14=h23475e2_0\r\n",
      "  - graphviz=2.47.3=h85b4f2f_0\r\n",
      "  - greenlet=1.1.0=py37h2531618_0\r\n",
      "  - grequests=0.6.0=pyh9f0ad1d_0\r\n",
      "  - gseapy=0.10.4=py_0\r\n",
      "  - gtk2=2.24.33=h539f30e_1\r\n",
      "  - gts=0.7.6=h64030ff_2\r\n",
      "  - harfbuzz=2.8.1=h83ec7ef_0\r\n",
      "  - html5lib=1.1=py_0\r\n",
      "  - icu=68.1=h2531618_0\r\n",
      "  - idna=2.10=pyhd3eb1b0_0\r\n",
      "  - imagesize=1.2.0=pyhd3eb1b0_0\r\n",
      "  - intel-openmp=2021.2.0=h06a4308_610\r\n",
      "  - ipykernel=5.3.4=py37h5ca1d4c_0\r\n",
      "  - ipython=7.18.1=py37h5ca1d4c_0\r\n",
      "  - ipython_genutils=0.2.0=py37_0\r\n",
      "  - itsdangerous=2.0.1=pyhd3eb1b0_0\r\n",
      "  - jedi=0.18.0=py37h06a4308_1\r\n",
      "  - jinja2=3.0.0=pyhd3eb1b0_0\r\n",
      "  - joblib=1.0.1=pyhd3eb1b0_0\r\n",
      "  - jpeg=9d=h36c2ea0_0\r\n",
      "  - jupyter_client=6.1.7=py_0\r\n",
      "  - jupyter_core=4.6.3=py37_0\r\n",
      "  - kiwisolver=1.3.1=py37h2531618_0\r\n",
      "  - lcms2=2.12=h3be6417_0\r\n",
      "  - ld_impl_linux-64=2.35.1=h7274673_9\r\n",
      "  - libev=4.33=h7b6447c_0\r\n",
      "  - libffi=3.3=he6710b0_2\r\n",
      "  - libgcc-ng=9.3.0=h5101ec6_17\r\n",
      "  - libgd=2.3.2=h78a0170_0\r\n",
      "  - libgfortran-ng=7.5.0=ha8ba4b0_17\r\n",
      "  - libgfortran4=7.5.0=ha8ba4b0_17\r\n",
      "  - libglib=2.68.3=h3e27bee_0\r\n",
      "  - libgomp=9.3.0=h5101ec6_17\r\n",
      "  - libiconv=1.16=h516909a_0\r\n",
      "  - libpng=1.6.37=hbc83047_0\r\n",
      "  - librsvg=2.50.7=hc3c00ef_0\r\n",
      "  - libsodium=1.0.18=h7b6447c_0\r\n",
      "  - libstdcxx-ng=9.3.0=hd4cf53a_17\r\n",
      "  - libtiff=4.2.0=h85742a9_0\r\n",
      "  - libtool=2.4.6=h7b6447c_1005\r\n",
      "  - libuuid=1.0.3=h1bed415_2\r\n",
      "  - libuv=1.40.0=h7b6447c_0\r\n",
      "  - libwebp=1.2.0=h89dd481_0\r\n",
      "  - libwebp-base=1.2.0=h27cfd23_0\r\n",
      "  - libxcb=1.14=h7b6447c_0\r\n",
      "  - libxml2=2.9.12=h72842e0_0\r\n",
      "  - libxslt=1.1.33=h15afd5d_2\r\n",
      "  - lxml=4.6.3=py37h77fd288_0\r\n",
      "  - lz4-c=1.9.3=h2531618_0\r\n",
      "  - markupsafe=2.0.1=py37h27cfd23_0\r\n",
      "  - matplotlib-base=3.3.4=py37h62a2d02_0\r\n",
      "  - mkl=2021.2.0=h06a4308_296\r\n",
      "  - mkl-service=2.3.0=py37h27cfd23_1\r\n",
      "  - mkl_fft=1.3.0=py37h42c9631_2\r\n",
      "  - mkl_random=1.2.1=py37ha9443f7_2\r\n",
      "  - ncurses=6.2=he6710b0_1\r\n",
      "  - ninja=1.10.2=hff7bd54_1\r\n",
      "  - numpy=1.20.2=py37h2d18471_0\r\n",
      "  - numpy-base=1.20.2=py37hfae3a4d_0\r\n",
      "  - numpydoc=1.1.0=pyhd3eb1b0_1\r\n",
      "  - olefile=0.46=py37_0\r\n",
      "  - openssl=1.1.1k=h27cfd23_0\r\n",
      "  - packaging=20.9=pyhd3eb1b0_0\r\n",
      "  - pandas=1.2.4=py37h2531618_0\r\n",
      "  - pango=1.48.5=hb8ff022_0\r\n",
      "  - parso=0.8.0=py_0\r\n",
      "  - patsy=0.5.1=py37_0\r\n",
      "  - pcre=8.44=he6710b0_0\r\n",
      "  - pexpect=4.8.0=pyhd3eb1b0_3\r\n",
      "  - pickleshare=0.7.5=py37_1001\r\n",
      "  - pillow=8.2.0=py37he98fc37_0\r\n",
      "  - pip=21.1.2=py37h06a4308_0\r\n",
      "  - pixman=0.40.0=h7b6447c_0\r\n",
      "  - prompt-toolkit=3.0.8=py_0\r\n",
      "  - ptyprocess=0.7.0=pyhd3eb1b0_2\r\n",
      "  - pycparser=2.20=py_2\r\n",
      "  - pydot=1.4.1=py37h06a4308_0\r\n",
      "  - pygments=2.9.0=pyhd3eb1b0_0\r\n",
      "  - pygraphviz=1.3=py37h14c3975_1\r\n",
      "  - pyopenssl=20.0.1=pyhd3eb1b0_1\r\n",
      "  - pyparsing=2.4.7=pyhd3eb1b0_0\r\n",
      "  - pysocks=1.7.1=py37_1\r\n",
      "  - python=3.7.10=h12debd9_4\r\n",
      "  - python-dateutil=2.8.1=pyhd3eb1b0_0\r\n",
      "  - python-wget=3.2=py_0\r\n",
      "  - python_abi=3.7=1_cp37m\r\n",
      "  - pytz=2021.1=pyhd3eb1b0_0\r\n",
      "  - pyzmq=19.0.2=py37he6710b0_1\r\n",
      "  - readline=8.1=h27cfd23_0\r\n",
      "  - requests=2.25.1=pyhd3eb1b0_0\r\n",
      "  - requests-cache=0.6.4=pyhd8ed1ab_0\r\n",
      "  - scipy=1.6.2=py37had2a1c9_1\r\n",
      "  - setuptools=52.0.0=py37h06a4308_0\r\n",
      "  - six=1.16.0=pyhd3eb1b0_0\r\n",
      "  - snowballstemmer=2.1.0=pyhd3eb1b0_0\r\n",
      "  - soupsieve=2.2.1=pyhd3eb1b0_0\r\n",
      "  - sphinx=4.0.1=pyhd3eb1b0_0\r\n",
      "  - sphinxcontrib-applehelp=1.0.2=pyhd3eb1b0_0\r\n",
      "  - sphinxcontrib-devhelp=1.0.2=pyhd3eb1b0_0\r\n",
      "  - sphinxcontrib-htmlhelp=1.0.3=pyhd3eb1b0_0\r\n",
      "  - sphinxcontrib-jsmath=1.0.1=pyhd3eb1b0_0\r\n",
      "  - sphinxcontrib-qthelp=1.0.3=pyhd3eb1b0_0\r\n",
      "  - sphinxcontrib-serializinghtml=1.1.4=pyhd3eb1b0_0\r\n",
      "  - sqlite=3.35.4=hdfb4753_0\r\n",
      "  - statsmodels=0.12.2=py37h27cfd23_0\r\n",
      "  - suds-jurko=0.6=py37h06a4308_3\r\n",
      "  - tk=8.6.10=hbc83047_0\r\n",
      "  - tornado=6.1=py37h27cfd23_0\r\n",
      "  - traitlets=5.0.5=py_0\r\n",
      "  - url-normalize=1.4.3=pyhd8ed1ab_0\r\n",
      "  - urllib3=1.26.4=pyhd3eb1b0_0\r\n",
      "  - wcwidth=0.2.5=py_0\r\n",
      "  - webencodings=0.5.1=py37_1\r\n",
      "  - wheel=0.36.2=pyhd3eb1b0_0\r\n",
      "  - wrapt=1.12.1=py37h7b6447c_1\r\n",
      "  - xlsxwriter=1.3.8=pyhd3eb1b0_0\r\n",
      "  - xz=5.2.5=h7b6447c_0\r\n",
      "  - zeromq=4.3.3=he6710b0_3\r\n",
      "  - zlib=1.2.11=h7b6447c_3\r\n",
      "  - zope=1.0=py37_1\r\n",
      "  - zope.event=4.5.0=py37_0\r\n",
      "  - zope.interface=5.3.0=py37h27cfd23_0\r\n",
      "  - zstd=1.4.9=haebb681_0\r\n",
      "  - pip:\r\n",
      "    - argparse==1.4.0\r\n",
      "    - future==0.18.2\r\n",
      "    - ipage-2==0.0.1\r\n",
      "    - llvmlite==0.37.0\r\n",
      "    - numba==0.54.0\r\n",
      "    - pybiomart==0.2.0\r\n",
      "prefix: /rumi/shams/abe/anaconda3/envs/down-go\r\n"
     ]
    }
   ],
   "source": [
    "!conda env export"
   ]
  }
 ],
 "metadata": {
  "kernelspec": {
   "display_name": "Python [conda env:down-go]",
   "language": "python",
   "name": "conda-env-down-go-py"
  },
  "language_info": {
   "codemirror_mode": {
    "name": "ipython",
    "version": 3
   },
   "file_extension": ".py",
   "mimetype": "text/x-python",
   "name": "python",
   "nbconvert_exporter": "python",
   "pygments_lexer": "ipython3",
   "version": "3.7.10"
  }
 },
 "nbformat": 4,
 "nbformat_minor": 5
}
